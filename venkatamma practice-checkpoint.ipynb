{
 "cells": [
  {
   "cell_type": "code",
   "execution_count": 1,
   "id": "a7aafbe3",
   "metadata": {},
   "outputs": [],
   "source": [
    "import pandas as pd\n",
    "import numpy as np"
   ]
  },
  {
   "cell_type": "code",
   "execution_count": 3,
   "id": "e1729205",
   "metadata": {},
   "outputs": [],
   "source": [
    "class Employee:\n",
    "    \n",
    "    def __init__(self, name, des, salary):\n",
    "        self.name = name\n",
    "        self.des = des\n",
    "        self.salary = salary\n",
    "        \n",
    "    def displayEmp(self):\n",
    "        print (\"Name of Employee is: \", self.name)\n",
    "        print (\"Designation of Employee: \", self.des)\n",
    "        print (\"Salary of Employee: \", self.salary)\n",
    "        \n",
    "e1 = Employee (\"Mahesh\", \"Manager\", 20000)\n",
    "e2 = Employee (\"Rahul\", \"Team Leader\", 30000)\n",
    "\n",
    "\n",
    "        "
   ]
  },
  {
   "cell_type": "code",
   "execution_count": 4,
   "id": "3d0e295e",
   "metadata": {},
   "outputs": [
    {
     "data": {
      "text/plain": [
       "<__main__.Employee at 0x1f0d01f5700>"
      ]
     },
     "execution_count": 4,
     "metadata": {},
     "output_type": "execute_result"
    }
   ],
   "source": [
    "e1\n"
   ]
  },
  {
   "cell_type": "code",
   "execution_count": 5,
   "id": "93af9070",
   "metadata": {},
   "outputs": [
    {
     "name": "stdout",
     "output_type": "stream",
     "text": [
      "<__main__.Employee object at 0x000001F0D01F5700>\n"
     ]
    }
   ],
   "source": [
    "print(e1)"
   ]
  },
  {
   "cell_type": "code",
   "execution_count": 24,
   "id": "bbdae7fd",
   "metadata": {},
   "outputs": [
    {
     "name": "stdout",
     "output_type": "stream",
     "text": [
      "enter the first number :2\n",
      "sellect the operation :+\n",
      "enter the second number :2\n",
      "4.0\n"
     ]
    }
   ],
   "source": [
    "num1=float(input(\"enter the first number :\"))\n",
    "op = input(\"sellect the operation :\")\n",
    "num2 = float(input(\"enter the second number :\"))\n",
    "if op== \"+\" :\n",
    "    print(num1+num2)\n",
    "elif op == \"-\":\n",
    "    print(num1 - num2)\n",
    "elif op == \"*\":\n",
    "    print(num1*num2)\n",
    "elif op == \"/\":\n",
    "    print(num1 / num2)\n",
    "else:\n",
    "    print(\"please enter a real operation \")"
   ]
  },
  {
   "cell_type": "code",
   "execution_count": 7,
   "id": "8d26c9df",
   "metadata": {},
   "outputs": [
    {
     "name": "stdout",
     "output_type": "stream",
     "text": [
      "Employee Details is:\n",
      "Name of Employee is:  Mahesh\n",
      "Designation of Employee:  Manager\n",
      "Salary of Employee:  20000\n",
      "Name of Employee is:  Rahul\n",
      "Designation of Employee:  Team Leader\n",
      "Salary of Employee:  30000\n"
     ]
    }
   ],
   "source": [
    "class Employee:\n",
    "    \n",
    "    def __init__(self, name, des, salary):\n",
    "        self.name = name\n",
    "        self.des = des\n",
    "        self.salary = salary\n",
    "       \n",
    "    def displayEmp(self):\n",
    "        print (\"Name of Employee is: \", self.name)\n",
    "        print (\"Designation of Employee: \", self.des)\n",
    "        print (\"Salary of Employee: \", self.salary)\n",
    "        \n",
    "e1 = Employee (\"Mahesh\", \"Manager\", 20000)\n",
    "e2 = Employee (\"Rahul\", \"Team Leader\", 30000)\n",
    "\n",
    "print(\"Employee Details is:\")\n",
    "\n",
    "e1.displayEmp()\n",
    "e2.displayEmp()"
   ]
  },
  {
   "cell_type": "markdown",
   "id": "6b1ea58a",
   "metadata": {},
   "source": [
    "# MODULE-2 OPERATORS"
   ]
  },
  {
   "cell_type": "code",
   "execution_count": 8,
   "id": "da9707c6",
   "metadata": {},
   "outputs": [
    {
     "name": "stdout",
     "output_type": "stream",
     "text": [
      "it is a valid relation\n"
     ]
    }
   ],
   "source": [
    "#write an equation which relates 399,543 and 12345\n",
    "\n",
    "#Step-by-step explanation:\n",
    "\n",
    "#if x = 12345 ; y = 543 and z = 399\n",
    "\n",
    "#then x= 22y + z\n",
    "\n",
    "#Alternatively Mod(12345/543) = 399\n",
    "\n",
    "x = 12345\n",
    "y = 543\n",
    "z = 399\n",
    "\n",
    "equation = 22*y + z\n",
    "\n",
    "if equation == x:\n",
    "    print('it is a valid relation')"
   ]
  },
  {
   "cell_type": "code",
   "execution_count": 9,
   "id": "e88a1cdb",
   "metadata": {},
   "outputs": [
    {
     "name": "stdout",
     "output_type": "stream",
     "text": [
      "1\n",
      "-2\n"
     ]
    }
   ],
   "source": [
    "#when I divide 5 with 3 I got1. but when I divide -5 with 3 I got -2 how would you justify it\n",
    "\n",
    "print (5//3)\n",
    "\n",
    "\n",
    "#The “//” operator is used to return the closest integer value which is less than or equal to a specified expression or value\n",
    "# this is floor division in python actually 5/3 is 1.6, and the closest integer which is less than or equal is 1 so [5//3] is 1.\n",
    "\n",
    "print (-5//3)\n",
    "\n",
    "\n",
    "#In Python, the “//” operator works as a floor division for integer and float arguments.\n",
    "#In normal maths 5/3 is 1.6 which means 2 so it is -2 for (-5//3)"
   ]
  },
  {
   "cell_type": "code",
   "execution_count": 96,
   "id": "417fabd3",
   "metadata": {},
   "outputs": [],
   "source": [
    "a=5\n",
    "b=3\n",
    "c=10\n",
    "\n",
    "#  a/=b    a=a/b\n",
    "#  c*=5    c=c*a"
   ]
  },
  {
   "cell_type": "code",
   "execution_count": 97,
   "id": "28bd7194",
   "metadata": {},
   "outputs": [
    {
     "data": {
      "text/plain": [
       "1.6666666666666667"
      ]
     },
     "execution_count": 97,
     "metadata": {},
     "output_type": "execute_result"
    }
   ],
   "source": [
    "a=a/b\n",
    "a"
   ]
  },
  {
   "cell_type": "code",
   "execution_count": 98,
   "id": "4a9c5be1",
   "metadata": {},
   "outputs": [
    {
     "data": {
      "text/plain": [
       "16.666666666666668"
      ]
     },
     "execution_count": 98,
     "metadata": {},
     "output_type": "execute_result"
    }
   ],
   "source": [
    "c=c*a\n",
    "c"
   ]
  },
  {
   "cell_type": "code",
   "execution_count": 93,
   "id": "5cc26e26",
   "metadata": {},
   "outputs": [
    {
     "name": "stdout",
     "output_type": "stream",
     "text": [
      "False\n"
     ]
    }
   ],
   "source": [
    "#how to check the presence of an alphabet s in \"Data Science\".\n",
    "\n",
    "string = 'Data Science'\n",
    "print( string.isalpha())"
   ]
  },
  {
   "cell_type": "code",
   "execution_count": 21,
   "id": "bbd7d866",
   "metadata": {},
   "outputs": [
    {
     "name": "stdout",
     "output_type": "stream",
     "text": [
      "Answer = 64\n"
     ]
    }
   ],
   "source": [
    "#how can we obtain 64 by using numbers 4 and 3\n",
    "\n",
    "base = 4\n",
    "exponent = 3\n",
    "\n",
    "result = pow(base, exponent)\n",
    "\n",
    "print(\"Answer = \" + str(result))\n"
   ]
  },
  {
   "cell_type": "markdown",
   "id": "16c0c01a",
   "metadata": {},
   "source": [
    "# ASSIGNMENT 1 datatypes\n",
    "\n"
   ]
  },
  {
   "cell_type": "raw",
   "id": "5c811614",
   "metadata": {},
   "source": [
    "# construct two lists containing all the available data types(integer,float,string,complex and boolean) and do the following"
   ]
  },
  {
   "cell_type": "code",
   "execution_count": 35,
   "id": "47bac6f4",
   "metadata": {},
   "outputs": [
    {
     "data": {
      "text/plain": [
       "['hey', 'you', 1, 1.5, 2, 2.5, 3, 'go', 1, 2, 3, 4, 5, 6j, True]"
      ]
     },
     "execution_count": 35,
     "metadata": {},
     "output_type": "execute_result"
    }
   ],
   "source": [
    "# a. create another list by concatenating above two lists.\n",
    "a= [\"hey\",\"you\",1,1.5,2,2.5,3,\"go\"] # list with string, float and integer\n",
    "b=[1,2,3,4,5,6j,True] # list with int and boean\n",
    "\n",
    "c=a+bol\n",
    "c"
   ]
  },
  {
   "cell_type": "code",
   "execution_count": 37,
   "id": "d6b84af5",
   "metadata": {},
   "outputs": [
    {
     "name": "stdout",
     "output_type": "stream",
     "text": [
      "{'hey': 1, 'you': 1, 1: 3, 1.5: 1, 2: 2, 2.5: 1, 3: 2, 'go': 1, 4: 1, 5: 1, 6j: 1}\n"
     ]
    }
   ],
   "source": [
    "# b. find the frequency of each element in the concatenated list\n",
    "\n",
    "c=['hey', 'you', 1, 1.5, 2, 2.5, 3, 'go', 1, 2, 3, 4, 5, 6j, True]\n",
    "\n",
    "frequency = {}\n",
    "\n",
    "# iterating over the list\n",
    "for item in c:\n",
    "   # checking the element in dictionary\n",
    "   if item in frequency:\n",
    "      # incrementing the counr\n",
    "      frequency[item] += 1\n",
    "   else:\n",
    "      # initializing the count\n",
    "      frequency[item] = 1\n",
    "\n",
    "# printing the frequency\n",
    "print(frequency)"
   ]
  },
  {
   "cell_type": "code",
   "execution_count": 43,
   "id": "42cf9b40",
   "metadata": {},
   "outputs": [
    {
     "data": {
      "text/plain": [
       "[True, 6j, 5, 4, 3, 2, 1, 'go', 3, 2.5, 2, 1.5, 1, 'you', 'hey']"
      ]
     },
     "execution_count": 43,
     "metadata": {},
     "output_type": "execute_result"
    }
   ],
   "source": [
    "# c. print the list in reverse order\n",
    "c=['hey', 'you', 1, 1.5, 2, 2.5, 3, 'go', 1, 2, 3, 4, 5, 6j, True]\n",
    "list(reversed(c))"
   ]
  },
  {
   "cell_type": "markdown",
   "id": "0e3250b4",
   "metadata": {},
   "source": [
    "#create 2 sets containing integers(numbers from 1 to 10 in one set and 5 to 15 in other set)"
   ]
  },
  {
   "cell_type": "code",
   "execution_count": 63,
   "id": "4b8da20c",
   "metadata": {},
   "outputs": [
    {
     "name": "stdout",
     "output_type": "stream",
     "text": [
      "{5, 6, 7, 8, 9, 10}\n"
     ]
    }
   ],
   "source": [
    "# a. find the common elements in above 2 sets\n",
    "\n",
    "\n",
    "def common_member(a, b):\n",
    "    a_set = set(a)\n",
    "    b_set = set(b)\n",
    " \n",
    "    if (a_set & b_set):\n",
    "        print(a_set & b_set)\n",
    "    else:\n",
    "        print(\"No common elements\")\n",
    "        \n",
    "a = [1, 2, 3, 4, 5,6,7,8,9,10]\n",
    "b = [5,6, 7, 8, 9,10,11,12,13,14,15]\n",
    "common_member(a, b)"
   ]
  },
  {
   "cell_type": "code",
   "execution_count": 75,
   "id": "f1fa4b7f",
   "metadata": {},
   "outputs": [
    {
     "data": {
      "text/plain": [
       "{5, 6, 7, 8, 9, 10}"
      ]
     },
     "execution_count": 75,
     "metadata": {},
     "output_type": "execute_result"
    }
   ],
   "source": [
    "a = [1, 2, 3, 4, 5,6,7,8,9,10]\n",
    "b = [5,6, 7, 8, 9,10,11,12,13,14,15]\n",
    "set(a).intersection(b)"
   ]
  },
  {
   "cell_type": "code",
   "execution_count": 86,
   "id": "67c1ea15",
   "metadata": {},
   "outputs": [
    {
     "name": "stdout",
     "output_type": "stream",
     "text": [
      "Uncommon elements: {1, 2, 3, 4, 11, 12, 13, 14, 15}\n"
     ]
    }
   ],
   "source": [
    "# b. find the elements that are not common\n",
    "def uncommon_items(a,b):\n",
    "    set1 = set(a)\n",
    "    set2 = set(b)\n",
    "    if(set1 ^ set2):\n",
    "        print ('Uncommon elements: ' + str(set1 ^ set2))\n",
    "    else:\n",
    "        print ('No Uncommon elements')\n",
    "a = [1, 2, 3, 4, 5,6,7,8,9,10]\n",
    "b = [5,6, 7, 8, 9,10,11,12,13,14,15]\n",
    "\n",
    "uncommon_items(a,b)\n"
   ]
  },
  {
   "cell_type": "code",
   "execution_count": 69,
   "id": "61d815b3",
   "metadata": {},
   "outputs": [
    {
     "name": "stdout",
     "output_type": "stream",
     "text": [
      "[1, 2, 3, 4, 5, 6, 7, 10] [5, 6, 7, 8, 9, 10, 11, 13, 14, 15]\n"
     ]
    }
   ],
   "source": [
    "# c. remove 7th element from both the sets\n",
    "\n",
    "a = [1, 2, 3, 4, 5,6,7,8,9,10]\n",
    "b = [5,6, 7, 8, 9,10,11,12,13,14,15]\n",
    "\n",
    "del (a[7],b[7])\n",
    "print(a,b)"
   ]
  },
  {
   "cell_type": "markdown",
   "id": "0293aa3a",
   "metadata": {},
   "source": [
    "# create a data dictionary of 5 states having state name as key and number of covid-19 cases as values"
   ]
  },
  {
   "cell_type": "code",
   "execution_count": 101,
   "id": "69ed8b27",
   "metadata": {},
   "outputs": [
    {
     "data": {
      "text/plain": [
       "dict_keys(['telangana', 'delhi', 'ap', 'chennai', 'banglore'])"
      ]
     },
     "execution_count": 101,
     "metadata": {},
     "output_type": "execute_result"
    }
   ],
   "source": [
    "# a. print only state names from dictionary \n",
    "dic1={\"telangana\":9,\"delhi\":10,\"ap\":20,\"chennai\":23,\"banglore\":27}\n",
    "dic1.keys()"
   ]
  },
  {
   "cell_type": "code",
   "execution_count": 105,
   "id": "72c986a7",
   "metadata": {},
   "outputs": [
    {
     "data": {
      "text/plain": [
       "{'telangana': 9,\n",
       " 'delhi': 10,\n",
       " 'ap': 20,\n",
       " 'chennai': 23,\n",
       " 'banglore': 27,\n",
       " 'pune': 46}"
      ]
     },
     "execution_count": 105,
     "metadata": {},
     "output_type": "execute_result"
    }
   ],
   "source": [
    "# b. update another country and its covid-19 cases in the dictionary\n",
    "dic1={\"telangana\":9,\"delhi\":10,\"ap\":20,\"chennai\":23,\"banglore\":27}\n",
    "dic1['pune'] = 46\n",
    "dic1"
   ]
  },
  {
   "cell_type": "code",
   "execution_count": null,
   "id": "7d2dea7c",
   "metadata": {},
   "outputs": [],
   "source": [
    " "
   ]
  }
 ],
 "metadata": {
  "kernelspec": {
   "display_name": "Python 3 (ipykernel)",
   "language": "python",
   "name": "python3"
  },
  "language_info": {
   "codemirror_mode": {
    "name": "ipython",
    "version": 3
   },
   "file_extension": ".py",
   "mimetype": "text/x-python",
   "name": "python",
   "nbconvert_exporter": "python",
   "pygments_lexer": "ipython3",
   "version": "3.9.12"
  }
 },
 "nbformat": 4,
 "nbformat_minor": 5
}
